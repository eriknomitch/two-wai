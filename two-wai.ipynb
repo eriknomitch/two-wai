{
 "cells": [
  {
   "cell_type": "markdown",
   "id": "7abe5a50-3bea-4015-8b9e-e1f906d68180",
   "metadata": {},
   "source": [
    "# Install"
   ]
  },
  {
   "cell_type": "code",
   "execution_count": 1,
   "id": "76fbe905-5ade-478c-b767-b76a24be9d66",
   "metadata": {},
   "outputs": [
    {
     "name": "stdout",
     "output_type": "stream",
     "text": [
      "Already up to date.\n"
     ]
    }
   ],
   "source": [
    "%%bash\n",
    "if test -d two-wai; then\n",
    "  cd two-wai\n",
    "  git pull\n",
    "else\n",
    "  git clone https://github.com/eriknomitch/two-wai.git\n",
    "fi"
   ]
  },
  {
   "cell_type": "code",
   "execution_count": 2,
   "id": "89575bb1-6903-496c-b775-ab126efe75ff",
   "metadata": {},
   "outputs": [
    {
     "name": "stdout",
     "output_type": "stream",
     "text": [
      "/notebooks/two-wai\n"
     ]
    }
   ],
   "source": [
    "%cd two-wai"
   ]
  },
  {
   "cell_type": "code",
   "execution_count": 3,
   "id": "d029a76d-7515-4f5a-8182-9c2561816ba3",
   "metadata": {
    "tags": []
   },
   "outputs": [
    {
     "name": "stderr",
     "output_type": "stream",
     "text": [
      "  Running command git clone --filter=blob:none --quiet https://github.com/openai/whisper.git /tmp/pip-req-build-avlixh02\n",
      "WARNING: Running pip as the 'root' user can result in broken permissions and conflicting behaviour with the system package manager. It is recommended to use a virtual environment instead: https://pip.pypa.io/warnings/venv\n"
     ]
    }
   ],
   "source": [
    "%%bash\n",
    "pip install -r requirements.txt > /dev/null"
   ]
  },
  {
   "cell_type": "markdown",
   "id": "3c0947d4-e10e-478f-8eed-721549e10788",
   "metadata": {},
   "source": [
    "# Banana"
   ]
  },
  {
   "cell_type": "markdown",
   "id": "ae41e50c-7c77-4083-96c0-0e26c92fa733",
   "metadata": {},
   "source": [
    "# Main"
   ]
  },
  {
   "cell_type": "code",
   "execution_count": 4,
   "id": "60fbbe4a-da6a-4679-ac1e-2a84303f1e6d",
   "metadata": {},
   "outputs": [],
   "source": [
    "DEFAULT_MODEL_SIZE = \"base\"\n",
    "DEFAULT_DELAY = 1.2"
   ]
  },
  {
   "cell_type": "code",
   "execution_count": null,
   "id": "74f8dd91-5bd2-4740-82fa-53f6572a5808",
   "metadata": {},
   "outputs": [
    {
     "name": "stderr",
     "output_type": "stream",
     "text": [
      "100%|███████████████████████████████████████| 139M/139M [00:05<00:00, 27.5MiB/s]\n"
     ]
    }
   ],
   "source": [
    "import os\n",
    "import gradio as gr\n",
    "import whisper\n",
    "from whisper import tokenizer\n",
    "import time\n",
    "\n",
    "current_size = DEFAULT_MODEL_SIZE\n",
    "model = whisper.load_model(current_size)\n",
    "\n",
    "def transcribe(audio, state={}, model_size=DEFAULT_MODEL_SIZE, delay=DEFAULT_DELAY):\n",
    "    time.sleep(delay - 1)\n",
    "\n",
    "    global current_size\n",
    "    global model\n",
    "    \n",
    "    if model_size != current_size:\n",
    "        current_size = model_size\n",
    "        model = whisper.load_model(current_size)\n",
    "\n",
    "    transcription = model.transcribe(\n",
    "        audio,\n",
    "        language='english'\n",
    "    )\n",
    "    state['transcription'] += transcription['text'] + \" \"\n",
    "    \n",
    "    print(\"-------------------------------------\")\n",
    "    print(f\"ADDING: {transcription['text']}\")\n",
    "    print()\n",
    "    print(f\"ADDING: {state['transcription']}\")\n",
    "\n",
    "    return state['transcription'], state"
   ]
  },
  {
   "cell_type": "code",
   "execution_count": null,
   "id": "b8cce2d6-202f-47ca-864b-77bbf5178aee",
   "metadata": {},
   "outputs": [],
   "source": [
    "title = \"two-way-speech\"\n",
    "description = \"A demo of two-way-speech\"\n",
    "\n",
    "model_size = gr.Dropdown(label=\"Model size\", choices=['base', 'tiny', 'small', 'medium', 'large'], value=DEFAULT_MODEL_SIZE)\n",
    "\n",
    "delay_slider = gr.inputs.Slider(minimum=1, maximum=5, default=DEFAULT_DELAY, label=\"Rate of transcription\")\n",
    "\n",
    "transcription_tb = gr.Textbox(label=\"Transcription\", lines=10, max_lines=500)\n",
    "\n",
    "state = gr.State({\"transcription\": \"\"})\n",
    "\n",
    "gr.Interface(\n",
    "    fn=transcribe,\n",
    "    inputs=[\n",
    "        gr.Audio(source=\"microphone\", type=\"filepath\", streaming=True),\n",
    "        state,\n",
    "        model_size,\n",
    "        delay_slider,\n",
    "    ],\n",
    "    outputs=[\n",
    "        transcription_tb,\n",
    "        state\n",
    "    ],\n",
    "    live=True,\n",
    "    allow_flagging='never',\n",
    "    title=title,\n",
    "    description=description,\n",
    ").launch(\n",
    "    # enable_queue=True,\n",
    "    debug=True,\n",
    "    share=True\n",
    "  )"
   ]
  }
 ],
 "metadata": {
  "kernelspec": {
   "display_name": "Python 3 (ipykernel)",
   "language": "python",
   "name": "python3"
  },
  "language_info": {
   "codemirror_mode": {
    "name": "ipython",
    "version": 3
   },
   "file_extension": ".py",
   "mimetype": "text/x-python",
   "name": "python",
   "nbconvert_exporter": "python",
   "pygments_lexer": "ipython3",
   "version": "3.9.13"
  },
  "toc-autonumbering": true
 },
 "nbformat": 4,
 "nbformat_minor": 5
}
